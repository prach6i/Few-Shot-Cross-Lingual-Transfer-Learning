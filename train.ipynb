{
 "cells": [
  {
   "cell_type": "code",
   "execution_count": 1,
   "metadata": {},
   "outputs": [],
   "source": [
    "import os \n",
    "import sys\n",
    "import copy \n",
    "import time\n",
    "import pickle\n",
    "import datetime\n",
    "import numpy as np\n",
    "import pandas as pd\n",
    "from tqdm import tqdm\n",
    "import matplotlib.pyplot as plt\n",
    "from collections import defaultdict\n",
    "\n",
    "import warnings\n",
    "warnings.filterwarnings(\"ignore\")"
   ]
  },
  {
   "cell_type": "markdown",
   "metadata": {},
   "source": [
    "---"
   ]
  },
  {
   "cell_type": "markdown",
   "metadata": {},
   "source": [
    "ref: https://github.com/huggingface/notebooks/blob/main/transformers_doc/en/multilingual.ipynb"
   ]
  },
  {
   "cell_type": "markdown",
   "metadata": {},
   "source": [
    "Q1. mBERT or XLM-R ?    \n",
    "Ans. XLM-R because it is more recent.\n",
    "\n",
    "Q2. Fine-tuning or Use of Adapters? If fine-tuning then translate-train or translate-test?   \n",
    "Ans. Let's start with fine-tuning as parameter efficiency is not essential for us.\n",
    "\n",
    "Q3. Which languages (out of the total 14) to use? Can we remove langues which are totally unrelated to the test languages (Chinese, Hindi, Swahili and Spanish)?\n",
    "\n",
    "Q4. Should we create 4 models (one for each of the 4 languages) or 1 model (for all 4 languages)?  "
   ]
  },
  {
   "cell_type": "markdown",
   "metadata": {},
   "source": [
    "List of Experiments: \n",
    "1. - Start with a single **XLM-R** model and use all the **14** provided languages to **fine-tune** it.\n",
    "   - Identify and **remove noisy languages** (from the 14 languages) then **fine-tune**. \n",
    "2. Create 4 separate language models for each of the 4 test languages. \n",
    "   - Each model uses all the training languages for fine-tuning. \n",
    "   - Each model uses only the languages which are closer to the corresponding model's test language. \n",
    "3. Use of Adapters ..."
   ]
  },
  {
   "cell_type": "markdown",
   "metadata": {},
   "source": [
    "**Fine-tuning strategies:**\n",
    "- Translate-train: \n",
    "    - translate all data to target language 'x' and fine-tune the model corresponding to 'x' on the translated data \n",
    "    - might lead to noisy data due to poor translations\n",
    "- Translate-test: \n",
    "    - PROS:\n",
    "        - train on original English data only\n",
    "        - at inference, translate the target language sentence to English\n",
    "        - maybe a better approach as the number of translation to be made is less and, generally, \\\n",
    "          translations into english are more accurate than translations from english to a different language. \n",
    "    - CONS:\n",
    "        - Unutilized training data of other languages "
   ]
  },
  {
   "cell_type": "markdown",
   "metadata": {},
   "source": [
    "---"
   ]
  },
  {
   "cell_type": "markdown",
   "metadata": {},
   "source": [
    "## Data Analysis"
   ]
  },
  {
   "cell_type": "code",
   "execution_count": 2,
   "metadata": {
    "scrolled": true
   },
   "outputs": [
    {
     "name": "stdout",
     "output_type": "stream",
     "text": [
      "(114993, 4)\n"
     ]
    },
    {
     "data": {
      "text/html": [
       "<div>\n",
       "<style scoped>\n",
       "    .dataframe tbody tr th:only-of-type {\n",
       "        vertical-align: middle;\n",
       "    }\n",
       "\n",
       "    .dataframe tbody tr th {\n",
       "        vertical-align: top;\n",
       "    }\n",
       "\n",
       "    .dataframe thead th {\n",
       "        text-align: right;\n",
       "    }\n",
       "</style>\n",
       "<table border=\"1\" class=\"dataframe\">\n",
       "  <thead>\n",
       "    <tr style=\"text-align: right;\">\n",
       "      <th></th>\n",
       "      <th>gold_label</th>\n",
       "      <th>premise</th>\n",
       "      <th>hypothesis</th>\n",
       "      <th>language</th>\n",
       "    </tr>\n",
       "  </thead>\n",
       "  <tbody>\n",
       "    <tr>\n",
       "      <th>0</th>\n",
       "      <td>neutral</td>\n",
       "      <td>At ground level, the asymmetrical cathedral is...</td>\n",
       "      <td>It's hard to find a dramatic view of the cathe...</td>\n",
       "      <td>en</td>\n",
       "    </tr>\n",
       "    <tr>\n",
       "      <th>1</th>\n",
       "      <td>contradiction</td>\n",
       "      <td>Hanuman is a beneficent deity predating classi...</td>\n",
       "      <td>Hanuman declared that all the lemurs here need...</td>\n",
       "      <td>en</td>\n",
       "    </tr>\n",
       "    <tr>\n",
       "      <th>2</th>\n",
       "      <td>contradiction</td>\n",
       "      <td>All other spending as well as federal revenue ...</td>\n",
       "      <td>None of the federal spending is assumed to grow</td>\n",
       "      <td>en</td>\n",
       "    </tr>\n",
       "    <tr>\n",
       "      <th>3</th>\n",
       "      <td>neutral</td>\n",
       "      <td>uh-huh that's interesting well it sounds as th...</td>\n",
       "      <td>That information about graduation rates is int...</td>\n",
       "      <td>en</td>\n",
       "    </tr>\n",
       "    <tr>\n",
       "      <th>4</th>\n",
       "      <td>neutral</td>\n",
       "      <td>Some kind of instant recognition on his father...</td>\n",
       "      <td>Did his father recognize him?</td>\n",
       "      <td>en</td>\n",
       "    </tr>\n",
       "  </tbody>\n",
       "</table>\n",
       "</div>"
      ],
      "text/plain": [
       "      gold_label                                            premise  \\\n",
       "0        neutral  At ground level, the asymmetrical cathedral is...   \n",
       "1  contradiction  Hanuman is a beneficent deity predating classi...   \n",
       "2  contradiction  All other spending as well as federal revenue ...   \n",
       "3        neutral  uh-huh that's interesting well it sounds as th...   \n",
       "4        neutral  Some kind of instant recognition on his father...   \n",
       "\n",
       "                                          hypothesis language  \n",
       "0  It's hard to find a dramatic view of the cathe...       en  \n",
       "1  Hanuman declared that all the lemurs here need...       en  \n",
       "2    None of the federal spending is assumed to grow       en  \n",
       "3  That information about graduation rates is int...       en  \n",
       "4                      Did his father recognize him?       en  "
      ]
     },
     "execution_count": 2,
     "metadata": {},
     "output_type": "execute_result"
    }
   ],
   "source": [
    "# data = pd.read_csv(\"/home/ddsb01/Desktop/NLP/Assign/A3/data/train/train.tsv\", sep='\\t')\n",
    "data = pd.read_csv(\"data/train/train.tsv\", sep='\\t')\n",
    "print(data.shape)\n",
    "data.head()"
   ]
  },
  {
   "cell_type": "code",
   "execution_count": 3,
   "metadata": {},
   "outputs": [],
   "source": [
    "all_data = copy.deepcopy(data)"
   ]
  },
  {
   "cell_type": "code",
   "execution_count": 4,
   "metadata": {},
   "outputs": [
    {
     "name": "stdout",
     "output_type": "stream",
     "text": [
      "(112993, 4)\n"
     ]
    },
    {
     "data": {
      "text/html": [
       "<div>\n",
       "<style scoped>\n",
       "    .dataframe tbody tr th:only-of-type {\n",
       "        vertical-align: middle;\n",
       "    }\n",
       "\n",
       "    .dataframe tbody tr th {\n",
       "        vertical-align: top;\n",
       "    }\n",
       "\n",
       "    .dataframe thead th {\n",
       "        text-align: right;\n",
       "    }\n",
       "</style>\n",
       "<table border=\"1\" class=\"dataframe\">\n",
       "  <thead>\n",
       "    <tr style=\"text-align: right;\">\n",
       "      <th></th>\n",
       "      <th>gold_label</th>\n",
       "      <th>premise</th>\n",
       "      <th>hypothesis</th>\n",
       "      <th>language</th>\n",
       "    </tr>\n",
       "  </thead>\n",
       "  <tbody>\n",
       "    <tr>\n",
       "      <th>0</th>\n",
       "      <td>neutral</td>\n",
       "      <td>At ground level, the asymmetrical cathedral is...</td>\n",
       "      <td>It's hard to find a dramatic view of the cathe...</td>\n",
       "      <td>en</td>\n",
       "    </tr>\n",
       "    <tr>\n",
       "      <th>1</th>\n",
       "      <td>contradiction</td>\n",
       "      <td>Hanuman is a beneficent deity predating classi...</td>\n",
       "      <td>Hanuman declared that all the lemurs here need...</td>\n",
       "      <td>en</td>\n",
       "    </tr>\n",
       "    <tr>\n",
       "      <th>2</th>\n",
       "      <td>contradiction</td>\n",
       "      <td>All other spending as well as federal revenue ...</td>\n",
       "      <td>None of the federal spending is assumed to grow</td>\n",
       "      <td>en</td>\n",
       "    </tr>\n",
       "    <tr>\n",
       "      <th>3</th>\n",
       "      <td>neutral</td>\n",
       "      <td>uh-huh that's interesting well it sounds as th...</td>\n",
       "      <td>That information about graduation rates is int...</td>\n",
       "      <td>en</td>\n",
       "    </tr>\n",
       "    <tr>\n",
       "      <th>4</th>\n",
       "      <td>neutral</td>\n",
       "      <td>Some kind of instant recognition on his father...</td>\n",
       "      <td>Did his father recognize him?</td>\n",
       "      <td>en</td>\n",
       "    </tr>\n",
       "  </tbody>\n",
       "</table>\n",
       "</div>"
      ],
      "text/plain": [
       "      gold_label                                            premise  \\\n",
       "0        neutral  At ground level, the asymmetrical cathedral is...   \n",
       "1  contradiction  Hanuman is a beneficent deity predating classi...   \n",
       "2  contradiction  All other spending as well as federal revenue ...   \n",
       "3        neutral  uh-huh that's interesting well it sounds as th...   \n",
       "4        neutral  Some kind of instant recognition on his father...   \n",
       "\n",
       "                                          hypothesis language  \n",
       "0  It's hard to find a dramatic view of the cathe...       en  \n",
       "1  Hanuman declared that all the lemurs here need...       en  \n",
       "2    None of the federal spending is assumed to grow       en  \n",
       "3  That information about graduation rates is int...       en  \n",
       "4                      Did his father recognize him?       en  "
      ]
     },
     "execution_count": 4,
     "metadata": {},
     "output_type": "execute_result"
    }
   ],
   "source": [
    "print(data.shape)\n",
    "data.head()"
   ]
  },
  {
   "cell_type": "code",
   "execution_count": 5,
   "metadata": {},
   "outputs": [
    {
     "data": {
      "text/plain": [
       "Index(['gold_label', 'premise', 'hypothesis', 'language'], dtype='object')"
      ]
     },
     "execution_count": 5,
     "metadata": {},
     "output_type": "execute_result"
    }
   ],
   "source": [
    "cols = data.columns\n",
    "cols"
   ]
  },
  {
   "cell_type": "code",
   "execution_count": 6,
   "metadata": {
    "scrolled": true
   },
   "outputs": [
    {
     "name": "stdout",
     "output_type": "stream",
     "text": [
      "(100993, 4)\n"
     ]
    },
    {
     "data": {
      "text/html": [
       "<div>\n",
       "<style scoped>\n",
       "    .dataframe tbody tr th:only-of-type {\n",
       "        vertical-align: middle;\n",
       "    }\n",
       "\n",
       "    .dataframe tbody tr th {\n",
       "        vertical-align: top;\n",
       "    }\n",
       "\n",
       "    .dataframe thead th {\n",
       "        text-align: right;\n",
       "    }\n",
       "</style>\n",
       "<table border=\"1\" class=\"dataframe\">\n",
       "  <thead>\n",
       "    <tr style=\"text-align: right;\">\n",
       "      <th></th>\n",
       "      <th>gold_label</th>\n",
       "      <th>premise</th>\n",
       "      <th>hypothesis</th>\n",
       "      <th>language</th>\n",
       "    </tr>\n",
       "  </thead>\n",
       "  <tbody>\n",
       "    <tr>\n",
       "      <th>0</th>\n",
       "      <td>neutral</td>\n",
       "      <td>At ground level, the asymmetrical cathedral is...</td>\n",
       "      <td>It's hard to find a dramatic view of the cathe...</td>\n",
       "      <td>en</td>\n",
       "    </tr>\n",
       "    <tr>\n",
       "      <th>1</th>\n",
       "      <td>contradiction</td>\n",
       "      <td>Hanuman is a beneficent deity predating classi...</td>\n",
       "      <td>Hanuman declared that all the lemurs here need...</td>\n",
       "      <td>en</td>\n",
       "    </tr>\n",
       "    <tr>\n",
       "      <th>2</th>\n",
       "      <td>contradiction</td>\n",
       "      <td>All other spending as well as federal revenue ...</td>\n",
       "      <td>None of the federal spending is assumed to grow</td>\n",
       "      <td>en</td>\n",
       "    </tr>\n",
       "    <tr>\n",
       "      <th>3</th>\n",
       "      <td>neutral</td>\n",
       "      <td>uh-huh that's interesting well it sounds as th...</td>\n",
       "      <td>That information about graduation rates is int...</td>\n",
       "      <td>en</td>\n",
       "    </tr>\n",
       "    <tr>\n",
       "      <th>4</th>\n",
       "      <td>neutral</td>\n",
       "      <td>Some kind of instant recognition on his father...</td>\n",
       "      <td>Did his father recognize him?</td>\n",
       "      <td>en</td>\n",
       "    </tr>\n",
       "  </tbody>\n",
       "</table>\n",
       "</div>"
      ],
      "text/plain": [
       "      gold_label                                            premise  \\\n",
       "0        neutral  At ground level, the asymmetrical cathedral is...   \n",
       "1  contradiction  Hanuman is a beneficent deity predating classi...   \n",
       "2  contradiction  All other spending as well as federal revenue ...   \n",
       "3        neutral  uh-huh that's interesting well it sounds as th...   \n",
       "4        neutral  Some kind of instant recognition on his father...   \n",
       "\n",
       "                                          hypothesis language  \n",
       "0  It's hard to find a dramatic view of the cathe...       en  \n",
       "1  Hanuman declared that all the lemurs here need...       en  \n",
       "2    None of the federal spending is assumed to grow       en  \n",
       "3  That information about graduation rates is int...       en  \n",
       "4                      Did his father recognize him?       en  "
      ]
     },
     "execution_count": 6,
     "metadata": {},
     "output_type": "execute_result"
    }
   ],
   "source": [
    "eng_data = data[data['language']=='en']\n",
    "print(eng_data.shape)\n",
    "eng_data.head()"
   ]
  },
  {
   "cell_type": "code",
   "execution_count": 7,
   "metadata": {
    "scrolled": true
   },
   "outputs": [
    {
     "name": "stdout",
     "output_type": "stream",
     "text": [
      "(0, 4)\n"
     ]
    },
    {
     "data": {
      "text/html": [
       "<div>\n",
       "<style scoped>\n",
       "    .dataframe tbody tr th:only-of-type {\n",
       "        vertical-align: middle;\n",
       "    }\n",
       "\n",
       "    .dataframe tbody tr th {\n",
       "        vertical-align: top;\n",
       "    }\n",
       "\n",
       "    .dataframe thead th {\n",
       "        text-align: right;\n",
       "    }\n",
       "</style>\n",
       "<table border=\"1\" class=\"dataframe\">\n",
       "  <thead>\n",
       "    <tr style=\"text-align: right;\">\n",
       "      <th></th>\n",
       "      <th>gold_label</th>\n",
       "      <th>premise</th>\n",
       "      <th>hypothesis</th>\n",
       "      <th>language</th>\n",
       "    </tr>\n",
       "  </thead>\n",
       "  <tbody>\n",
       "  </tbody>\n",
       "</table>\n",
       "</div>"
      ],
      "text/plain": [
       "Empty DataFrame\n",
       "Columns: [gold_label, premise, hypothesis, language]\n",
       "Index: []"
      ]
     },
     "execution_count": 7,
     "metadata": {},
     "output_type": "execute_result"
    }
   ],
   "source": [
    "eng_data = data[data['language']=='ur']\n",
    "print(eng_data.shape)\n",
    "eng_data.head()"
   ]
  },
  {
   "cell_type": "code",
   "execution_count": 8,
   "metadata": {},
   "outputs": [],
   "source": [
    "target_langs = ['hi', 'sw', 'zh', 'es']\n",
    "target_languages = ['Hindi', 'Swahili', 'Chinese', 'Spanish']"
   ]
  },
  {
   "cell_type": "code",
   "execution_count": 9,
   "metadata": {
    "scrolled": true
   },
   "outputs": [
    {
     "name": "stdout",
     "output_type": "stream",
     "text": [
      "['bg' 'de' 'el' 'en' 'es' 'fr' 'hi' 'ru' 'sw' 'th' 'tr' 'vi' 'zh']\n",
      "{'bg': 1000, 'de': 1000, 'el': 1000, 'en': 100993, 'es': 1000, 'fr': 1000, 'hi': 1000, 'ru': 1000, 'sw': 1000, 'th': 1000, 'tr': 1000, 'vi': 1000, 'zh': 1000}\n"
     ]
    },
    {
     "data": {
      "text/plain": [
       "<BarContainer object of 13 artists>"
      ]
     },
     "execution_count": 9,
     "metadata": {},
     "output_type": "execute_result"
    },
    {
     "data": {
      "image/png": "[encoded data removed]",
      "text/plain": [
       "<Figure size 640x480 with 1 Axes>"
      ]
     },
     "metadata": {},
     "output_type": "display_data"
    }
   ],
   "source": [
    "# different languages present in the data:\n",
    "langs = np.unique(data['language'])\n",
    "print(langs)\n",
    "\n",
    "lang_dict = {} \n",
    "for lang in langs:\n",
    "    lang_dict[lang] = data[data['language']==lang].shape[0]\n",
    "print(lang_dict)\n",
    "plt.bar(lang_dict.keys(), height=lang_dict.values())"
   ]
  },
  {
   "cell_type": "code",
   "execution_count": 10,
   "metadata": {
    "scrolled": true
   },
   "outputs": [
    {
     "name": "stdout",
     "output_type": "stream",
     "text": [
      "['contradiction' 'entailment' 'neutral']\n",
      "{'contradiction': 39465, 'entailment': 38113, 'neutral': 35415}\n"
     ]
    },
    {
     "data": {
      "text/plain": [
       "<BarContainer object of 3 artists>"
      ]
     },
     "execution_count": 10,
     "metadata": {},
     "output_type": "execute_result"
    },
    {
     "data": {
      "image/png": "[encoded data removed]",
      "text/plain": [
       "<Figure size 640x480 with 1 Axes>"
      ]
     },
     "metadata": {},
     "output_type": "display_data"
    }
   ],
   "source": [
    "labels = np.unique(data['gold_label'])\n",
    "print(labels)\n",
    "\n",
    "label_dict = {}\n",
    "for label in labels:\n",
    "    label_dict[label] = data[data['gold_label']==label].shape[0]\n",
    "print(label_dict)\n",
    "plt.bar(label_dict.keys(), height=label_dict.values())"
   ]
  },
  {
   "cell_type": "code",
   "execution_count": 11,
   "metadata": {},
   "outputs": [],
   "source": [
    "# Keeping a copy of the originial data:\n",
    "orig_data = copy.deepcopy(data)\n",
    "train_data = copy.deepcopy(data)"
   ]
  },
  {
   "cell_type": "code",
   "execution_count": 12,
   "metadata": {
    "scrolled": true
   },
   "outputs": [
    {
     "name": "stdout",
     "output_type": "stream",
     "text": [
      "(37350, 19) (75150, 19)\n"
     ]
    }
   ],
   "source": [
    "# xnli_dev = pd.read_csv(\"/home/ddsb01/Desktop/NLP/Assign/A3/data/xnli/xnli.dev.tsv\", sep='\\t') \n",
    "# xnli_test = pd.read_csv(\"/home/ddsb01/Desktop/NLP/Assign/A3/data/xnli/xnli.test.tsv\", sep='\\t')\n",
    "xnli_dev = pd.read_csv(\"data/xnli/xnli.dev.tsv\", sep='\\t') \n",
    "xnli_test = pd.read_csv(\"data/xnli/xnli.test.tsv\", sep='\\t')\n",
    "print(xnli_dev.shape, xnli_test.shape)"
   ]
  },
  {
   "cell_type": "code",
   "execution_count": 13,
   "metadata": {},
   "outputs": [
    {
     "data": {
      "text/plain": [
       "Index(['language', 'gold_label', 'sentence1_binary_parse',\n",
       "       'sentence2_binary_parse', 'sentence1_parse', 'sentence2_parse',\n",
       "       'sentence1', 'sentence2', 'promptID', 'pairID', 'genre', 'label1',\n",
       "       'label2', 'label3', 'label4', 'label5', 'sentence1_tokenized',\n",
       "       'sentence2_tokenized', 'match'],\n",
       "      dtype='object')"
      ]
     },
     "execution_count": 13,
     "metadata": {},
     "output_type": "execute_result"
    }
   ],
   "source": [
    "xnli_test.columns"
   ]
  },
  {
   "cell_type": "code",
   "execution_count": 14,
   "metadata": {},
   "outputs": [
    {
     "name": "stdout",
     "output_type": "stream",
     "text": [
      "['facetoface' 'fiction' 'government' 'letters' 'nineeleven' 'oup' 'slate'\n",
      " 'telephone' 'travel' 'verbatim']\n",
      "(10,)\n"
     ]
    }
   ],
   "source": [
    "genres = np.unique(xnli_test['genre']) \n",
    "print(genres) \n",
    "print(genres.shape)"
   ]
  },
  {
   "cell_type": "code",
   "execution_count": 15,
   "metadata": {},
   "outputs": [
    {
     "name": "stdout",
     "output_type": "stream",
     "text": [
      "(9960, 5)\n"
     ]
    }
   ],
   "source": [
    "req_cols = ['gold_label', 'sentence1', 'sentence2', 'language', 'genre'] \n",
    "# required: ['gold_label', 'premise', 'hypothesis', 'language']\n",
    "# taking 'genre' as well for possible finer fine-tuning (since we know the test genres)\n",
    "\n",
    "val_data_from_dev = xnli_dev[(xnli_dev['language']=='hi') | (xnli_dev['language']=='zh') | (xnli_dev['language']=='sw') | (xnli_dev['language']=='es')][req_cols] # 2.5k per language (the 1k given to us belong here i.e., it contains the target languages' training data itself!)\n",
    "# val_data_from_test = xnli_test[(xnli_test['language']=='hi') | (xnli_test['language']=='zh') | (xnli_test['language']=='sw') | (xnli_test['language']=='es')][req_cols] # 5k per language\n",
    "# dfs = [val_data_from_dev, val_data_from_test]\n",
    "# val_data = pd.concat(dfs)\n",
    "val_data=val_data_from_dev\n",
    "print(val_data.shape)\n",
    "\n",
    "# rename the columns to match 'data'\n",
    "val_data.rename(columns={'sentence1':'premise', 'sentence2':'hypothesis'}, inplace=True)\n",
    "# val_data.to_csv('/home/ddsb01/Desktop/NLP/Assign/A3/data/train/val.tsv', sep='\\t', index=False)\n",
    "val_data = pd.read_csv(\"data/train/val.tsv\", sep='\\t')\n",
    "# val_data.to_csv('train/val1.tsv', sep='\\t', index=False)"
   ]
  },
  {
   "cell_type": "code",
   "execution_count": 16,
   "metadata": {},
   "outputs": [
    {
     "name": "stdout",
     "output_type": "stream",
     "text": [
      "(9960, 5)\n"
     ]
    },
    {
     "data": {
      "text/html": [
       "<div>\n",
       "<style scoped>\n",
       "    .dataframe tbody tr th:only-of-type {\n",
       "        vertical-align: middle;\n",
       "    }\n",
       "\n",
       "    .dataframe tbody tr th {\n",
       "        vertical-align: top;\n",
       "    }\n",
       "\n",
       "    .dataframe thead th {\n",
       "        text-align: right;\n",
       "    }\n",
       "</style>\n",
       "<table border=\"1\" class=\"dataframe\">\n",
       "  <thead>\n",
       "    <tr style=\"text-align: right;\">\n",
       "      <th></th>\n",
       "      <th>gold_label</th>\n",
       "      <th>premise</th>\n",
       "      <th>hypothesis</th>\n",
       "      <th>language</th>\n",
       "      <th>genre</th>\n",
       "    </tr>\n",
       "  </thead>\n",
       "  <tbody>\n",
       "    <tr>\n",
       "      <th>0</th>\n",
       "      <td>neutral</td>\n",
       "      <td>Y él dijo: Mamá, estoy en casa.</td>\n",
       "      <td>Llamó a su madre tan pronto como el autobús es...</td>\n",
       "      <td>es</td>\n",
       "      <td>facetoface</td>\n",
       "    </tr>\n",
       "    <tr>\n",
       "      <th>1</th>\n",
       "      <td>contradiction</td>\n",
       "      <td>Y él dijo: Mamá, estoy en casa.</td>\n",
       "      <td>Él no dijo una palabra.</td>\n",
       "      <td>es</td>\n",
       "      <td>facetoface</td>\n",
       "    </tr>\n",
       "    <tr>\n",
       "      <th>2</th>\n",
       "      <td>entailment</td>\n",
       "      <td>Y él dijo: Mamá, estoy en casa.</td>\n",
       "      <td>Le dijo a su madre que había llegado a casa.</td>\n",
       "      <td>es</td>\n",
       "      <td>facetoface</td>\n",
       "    </tr>\n",
       "    <tr>\n",
       "      <th>3</th>\n",
       "      <td>neutral</td>\n",
       "      <td>No sabía para qué iba ni nada, así que iba a i...</td>\n",
       "      <td>Nunca he estado en Washington, así que cuando ...</td>\n",
       "      <td>es</td>\n",
       "      <td>facetoface</td>\n",
       "    </tr>\n",
       "    <tr>\n",
       "      <th>4</th>\n",
       "      <td>contradiction</td>\n",
       "      <td>No sabía para qué iba ni nada, así que iba a i...</td>\n",
       "      <td>Sabía exactamente lo que tenía que hacer mient...</td>\n",
       "      <td>es</td>\n",
       "      <td>facetoface</td>\n",
       "    </tr>\n",
       "  </tbody>\n",
       "</table>\n",
       "</div>"
      ],
      "text/plain": [
       "      gold_label                                            premise  \\\n",
       "0        neutral                    Y él dijo: Mamá, estoy en casa.   \n",
       "1  contradiction                    Y él dijo: Mamá, estoy en casa.   \n",
       "2     entailment                    Y él dijo: Mamá, estoy en casa.   \n",
       "3        neutral  No sabía para qué iba ni nada, así que iba a i...   \n",
       "4  contradiction  No sabía para qué iba ni nada, así que iba a i...   \n",
       "\n",
       "                                          hypothesis language       genre  \n",
       "0  Llamó a su madre tan pronto como el autobús es...       es  facetoface  \n",
       "1                            Él no dijo una palabra.       es  facetoface  \n",
       "2       Le dijo a su madre que había llegado a casa.       es  facetoface  \n",
       "3  Nunca he estado en Washington, así que cuando ...       es  facetoface  \n",
       "4  Sabía exactamente lo que tenía que hacer mient...       es  facetoface  "
      ]
     },
     "execution_count": 16,
     "metadata": {},
     "output_type": "execute_result"
    }
   ],
   "source": [
    "# val_data = pd.read_csv(\"/home/ddsb01/Desktop/NLP/Assign/A3/data/train/val.tsv\", sep='\\t') \n",
    "val_data = pd.read_csv(\"data/train/val.tsv\", sep='\\t') \n",
    "# val_data = pd.read_csv(\"train/val1.tsv\", sep='\\t')\n",
    "print(val_data.shape)\n",
    "val_data.head()"
   ]
  },
  {
   "cell_type": "code",
   "execution_count": 17,
   "metadata": {},
   "outputs": [
    {
     "data": {
      "text/plain": [
       "(4980, 5)"
      ]
     },
     "execution_count": 17,
     "metadata": {},
     "output_type": "execute_result"
    }
   ],
   "source": [
    "# filter the val_data to include only the probable test genres (5 out of the total 10 genres)\n",
    "genre_val_data = val_data[\n",
    "                            (val_data['genre']=='facetoface') | \n",
    "                            (val_data['genre']=='fiction') |\n",
    "                            (val_data['genre']=='oup') |\n",
    "                            (val_data['genre']=='telephone') |\n",
    "                            (val_data['genre']=='travel') \n",
    "                         ]\n",
    "genre_val_data.shape"
   ]
  },
  {
   "cell_type": "code",
   "execution_count": 18,
   "metadata": {},
   "outputs": [
    {
     "name": "stdout",
     "output_type": "stream",
     "text": [
      "(75150, 5)\n"
     ]
    },
    {
     "data": {
      "text/html": [
       "<div>\n",
       "<style scoped>\n",
       "    .dataframe tbody tr th:only-of-type {\n",
       "        vertical-align: middle;\n",
       "    }\n",
       "\n",
       "    .dataframe tbody tr th {\n",
       "        vertical-align: top;\n",
       "    }\n",
       "\n",
       "    .dataframe thead th {\n",
       "        text-align: right;\n",
       "    }\n",
       "</style>\n",
       "<table border=\"1\" class=\"dataframe\">\n",
       "  <thead>\n",
       "    <tr style=\"text-align: right;\">\n",
       "      <th></th>\n",
       "      <th>gold_label</th>\n",
       "      <th>premise</th>\n",
       "      <th>hypothesis</th>\n",
       "      <th>language</th>\n",
       "      <th>genre</th>\n",
       "    </tr>\n",
       "  </thead>\n",
       "  <tbody>\n",
       "    <tr>\n",
       "      <th>0</th>\n",
       "      <td>contradiction</td>\n",
       "      <td>حسنا ، لم أكن أفكر حتى حول ذلك ، لكن كنت محبطا...</td>\n",
       "      <td>لم أتحدث معه مرة أخرى.</td>\n",
       "      <td>ar</td>\n",
       "      <td>facetoface</td>\n",
       "    </tr>\n",
       "    <tr>\n",
       "      <th>1</th>\n",
       "      <td>entailment</td>\n",
       "      <td>حسنا ، لم أكن أفكر حتى حول ذلك ، لكن كنت محبطا...</td>\n",
       "      <td>كنت مستاء جدا لدرجة أنني بدأت بالحديث معه مرة ...</td>\n",
       "      <td>ar</td>\n",
       "      <td>facetoface</td>\n",
       "    </tr>\n",
       "    <tr>\n",
       "      <th>2</th>\n",
       "      <td>neutral</td>\n",
       "      <td>حسنا ، لم أكن أفكر حتى حول ذلك ، لكن كنت محبطا...</td>\n",
       "      <td>دار بيننا حديث رائع.</td>\n",
       "      <td>ar</td>\n",
       "      <td>facetoface</td>\n",
       "    </tr>\n",
       "    <tr>\n",
       "      <th>3</th>\n",
       "      <td>neutral</td>\n",
       "      <td>واعتقدت أن ذلك شرف لي ، ولا يزال ، ولايزال ، ك...</td>\n",
       "      <td>لم أكن على علم بأنني لم أكن الشخص الوحيد الذي ...</td>\n",
       "      <td>ar</td>\n",
       "      <td>facetoface</td>\n",
       "    </tr>\n",
       "    <tr>\n",
       "      <th>4</th>\n",
       "      <td>entailment</td>\n",
       "      <td>واعتقدت أن ذلك شرف لي ، ولا يزال ، ولايزال ، ك...</td>\n",
       "      <td>كان لدي إنطباع أنني كنت الشخص الوحيد الذي لديه...</td>\n",
       "      <td>ar</td>\n",
       "      <td>facetoface</td>\n",
       "    </tr>\n",
       "  </tbody>\n",
       "</table>\n",
       "</div>"
      ],
      "text/plain": [
       "      gold_label                                            premise  \\\n",
       "0  contradiction  حسنا ، لم أكن أفكر حتى حول ذلك ، لكن كنت محبطا...   \n",
       "1     entailment  حسنا ، لم أكن أفكر حتى حول ذلك ، لكن كنت محبطا...   \n",
       "2        neutral  حسنا ، لم أكن أفكر حتى حول ذلك ، لكن كنت محبطا...   \n",
       "3        neutral  واعتقدت أن ذلك شرف لي ، ولا يزال ، ولايزال ، ك...   \n",
       "4     entailment  واعتقدت أن ذلك شرف لي ، ولا يزال ، ولايزال ، ك...   \n",
       "\n",
       "                                          hypothesis language       genre  \n",
       "0                             لم أتحدث معه مرة أخرى.       ar  facetoface  \n",
       "1  كنت مستاء جدا لدرجة أنني بدأت بالحديث معه مرة ...       ar  facetoface  \n",
       "2                               دار بيننا حديث رائع.       ar  facetoface  \n",
       "3  لم أكن على علم بأنني لم أكن الشخص الوحيد الذي ...       ar  facetoface  \n",
       "4  كان لدي إنطباع أنني كنت الشخص الوحيد الذي لديه...       ar  facetoface  "
      ]
     },
     "execution_count": 18,
     "metadata": {},
     "output_type": "execute_result"
    }
   ],
   "source": [
    "# taking all of xnli_test for validation\n",
    "all_val_data = xnli_test[req_cols]\n",
    "all_val_data.rename(columns={'sentence1':'premise', 'sentence2':'hypothesis'}, inplace=True) \n",
    "print(all_val_data.shape)\n",
    "all_val_data.head()"
   ]
  },
  {
   "cell_type": "markdown",
   "metadata": {},
   "source": [
    "Training/Fine-tuning on languages **unrelated** to the target languages might just be noise. Will removing unrelated languages help?           \n",
    "\n",
    "What is an unrelated language? One way is to differentiate as left-to-right vs right-to-left. Another way is phylogenetic trees.        \n",
    "\n",
    "We could also explore fine-tuning on some other task which might help in this NLI task? However, the restriction would be that we have to somehow use the given data only\" "
   ]
  },
  {
   "cell_type": "markdown",
   "metadata": {},
   "source": [
    "We have been given data from xnli_dev corresponding to 5 genres: {'facetoface', 'fiction', 'telephone', 'oup', 'travel'}   \n",
    "However, we will all the samples (i.e., samples corresponding to all the genres) of the target languages from xnli_test for validaition."
   ]
  },
  {
   "cell_type": "markdown",
   "metadata": {},
   "source": [
    "---"
   ]
  },
  {
   "cell_type": "markdown",
   "metadata": {},
   "source": [
    "## Model"
   ]
  },
  {
   "cell_type": "markdown",
   "metadata": {},
   "source": [
    "*Multi-lingual Language Models*\n",
    "\n",
    "- XLMR\n",
    "    - xlm-roberta-base (Masked language modeling, 100 languages) [Use this first]\n",
    "    - xlm-roberta-large (Masked language modeling, 100 languages)\n",
    "\n",
    "- BERT (or mBERT)  \n",
    "    - bert-base-multilingual-uncased (Masked language modeling + Next sentence prediction, 102 languages)\n",
    "    - bert-base-multilingual-cased (Masked language modeling + Next sentence prediction, 104 languages) [New and better] \n",
    "\n",
    "\n",
    "*Translation Models* \n",
    "- m2m100\n",
    "    - facebook/m2m100_418M (Translation)\n",
    "    - facebook/m2m100_1.2B (Translation)\n"
   ]
  },
  {
   "cell_type": "markdown",
   "metadata": {},
   "source": [
    "https://towardsdatascience.com/how-to-apply-bert-to-arabic-and-other-languages-5c3410ddd787"
   ]
  },
  {
   "cell_type": "markdown",
   "metadata": {},
   "source": [
    "Q. Why are we using XLM-R (which is multilingual) instead of single BERT (or other) models for each language? \n",
    "Ans. Because of lack of data or because of existence of many *low-resource* language. mBERT is another option but XLM-R has been found to perform better. \n",
    "\n",
    "Q. Do we need to translate-train when working with XLM-R?\n",
    "Ans. NO! XLM-R has a shared vocabulary of 250K tokens corresponding to 100 languages which cover all the languages that we are using so there is no need to do any translations into english (or any other language) at test time. Also, no need to add any special markers to indicate the language at the time of fine-tuning."
   ]
  },
  {
   "cell_type": "code",
   "execution_count": 19,
   "metadata": {},
   "outputs": [
    {
     "name": "stdout",
     "output_type": "stream",
     "text": [
      "Collecting transformers\n",
      "  Downloading transformers-4.24.0-py3-none-any.whl (5.5 MB)\n",
      "\u001b[K     |████████████████████████████████| 5.5 MB 1.0 MB/s eta 0:00:01\n",
      "\u001b[?25hCollecting datasets\n",
      "  Downloading datasets-2.7.1-py3-none-any.whl (451 kB)\n",
      "\u001b[K     |████████████████████████████████| 451 kB 9.6 MB/s eta 0:00:01\n",
      "\u001b[?25hRequirement already satisfied: filelock in /home/prachimsr/anaconda3/lib/python3.9/site-packages (from transformers) (3.6.0)\n",
      "Requirement already satisfied: tqdm>=4.27 in /home/prachimsr/anaconda3/lib/python3.9/site-packages (from transformers) (4.64.0)\n",
      "Requirement already satisfied: requests in /home/prachimsr/anaconda3/lib/python3.9/site-packages (from transformers) (2.27.1)\n",
      "Requirement already satisfied: numpy>=1.17 in /home/prachimsr/anaconda3/lib/python3.9/site-packages (from transformers) (1.21.5)\n",
      "Collecting tokenizers!=0.11.3,<0.14,>=0.11.1\n",
      "  Downloading tokenizers-0.13.2-cp39-cp39-manylinux_2_17_x86_64.manylinux2014_x86_64.whl (7.6 MB)\n",
      "\u001b[K     |████████████████████████████████| 7.6 MB 36.1 MB/s eta 0:00:01     |██████████████████████████████▋ | 7.3 MB 36.1 MB/s eta 0:00:01\n",
      "\u001b[?25hRequirement already satisfied: packaging>=20.0 in /home/prachimsr/anaconda3/lib/python3.9/site-packages (from transformers) (21.3)\n",
      "Collecting huggingface-hub<1.0,>=0.10.0\n",
      "  Downloading huggingface_hub-0.11.0-py3-none-any.whl (182 kB)\n",
      "\u001b[K     |████████████████████████████████| 182 kB 50.5 MB/s eta 0:00:01\n",
      "\u001b[?25hRequirement already satisfied: regex!=2019.12.17 in /home/prachimsr/anaconda3/lib/python3.9/site-packages (from transformers) (2022.3.15)\n",
      "Requirement already satisfied: pyyaml>=5.1 in /home/prachimsr/anaconda3/lib/python3.9/site-packages (from transformers) (6.0)\n",
      "Collecting multiprocess\n",
      "  Using cached multiprocess-0.70.14-py39-none-any.whl (132 kB)\n",
      "Collecting pyarrow>=6.0.0\n",
      "  Downloading pyarrow-10.0.1-cp39-cp39-manylinux_2_17_x86_64.manylinux2014_x86_64.whl (35.9 MB)\n",
      "\u001b[K     |████████████████████████████████| 35.9 MB 64.5 MB/s eta 0:00:01\n",
      "\u001b[?25hRequirement already satisfied: pandas in /home/prachimsr/anaconda3/lib/python3.9/site-packages (from datasets) (1.4.2)\n",
      "Collecting dill<0.3.7\n",
      "  Downloading dill-0.3.6-py3-none-any.whl (110 kB)\n",
      "\u001b[K     |████████████████████████████████| 110 kB 46.4 MB/s eta 0:00:01\n",
      "\u001b[?25hCollecting xxhash\n",
      "  Using cached xxhash-3.1.0-cp39-cp39-manylinux_2_17_x86_64.manylinux2014_x86_64.whl (212 kB)\n",
      "Requirement already satisfied: aiohttp in /home/prachimsr/anaconda3/lib/python3.9/site-packages (from datasets) (3.8.1)\n",
      "Collecting responses<0.19\n",
      "  Using cached responses-0.18.0-py3-none-any.whl (38 kB)\n",
      "Requirement already satisfied: fsspec[http]>=2021.11.1 in /home/prachimsr/anaconda3/lib/python3.9/site-packages (from datasets) (2022.2.0)\n",
      "Requirement already satisfied: typing-extensions>=3.7.4.3 in /home/prachimsr/anaconda3/lib/python3.9/site-packages (from huggingface-hub<1.0,>=0.10.0->transformers) (4.1.1)\n",
      "Requirement already satisfied: pyparsing!=3.0.5,>=2.0.2 in /home/prachimsr/anaconda3/lib/python3.9/site-packages (from packaging>=20.0->transformers) (3.0.4)\n",
      "Requirement already satisfied: charset-normalizer~=2.0.0 in /home/prachimsr/anaconda3/lib/python3.9/site-packages (from requests->transformers) (2.0.4)\n",
      "Requirement already satisfied: certifi>=2017.4.17 in /home/prachimsr/anaconda3/lib/python3.9/site-packages (from requests->transformers) (2021.10.8)\n",
      "Requirement already satisfied: urllib3<1.27,>=1.21.1 in /home/prachimsr/anaconda3/lib/python3.9/site-packages (from requests->transformers) (1.26.9)\n",
      "Requirement already satisfied: idna<4,>=2.5 in /home/prachimsr/anaconda3/lib/python3.9/site-packages (from requests->transformers) (3.3)\n",
      "Requirement already satisfied: async-timeout<5.0,>=4.0.0a3 in /home/prachimsr/anaconda3/lib/python3.9/site-packages (from aiohttp->datasets) (4.0.1)\n",
      "Requirement already satisfied: multidict<7.0,>=4.5 in /home/prachimsr/anaconda3/lib/python3.9/site-packages (from aiohttp->datasets) (5.2.0)\n",
      "Requirement already satisfied: attrs>=17.3.0 in /home/prachimsr/anaconda3/lib/python3.9/site-packages (from aiohttp->datasets) (21.4.0)\n",
      "Requirement already satisfied: yarl<2.0,>=1.0 in /home/prachimsr/anaconda3/lib/python3.9/site-packages (from aiohttp->datasets) (1.6.3)\n",
      "Requirement already satisfied: frozenlist>=1.1.1 in /home/prachimsr/anaconda3/lib/python3.9/site-packages (from aiohttp->datasets) (1.2.0)\n",
      "Requirement already satisfied: aiosignal>=1.1.2 in /home/prachimsr/anaconda3/lib/python3.9/site-packages (from aiohttp->datasets) (1.2.0)\n",
      "Requirement already satisfied: python-dateutil>=2.8.1 in /home/prachimsr/anaconda3/lib/python3.9/site-packages (from pandas->datasets) (2.8.2)\n",
      "Requirement already satisfied: pytz>=2020.1 in /home/prachimsr/anaconda3/lib/python3.9/site-packages (from pandas->datasets) (2021.3)\n",
      "Requirement already satisfied: six>=1.5 in /home/prachimsr/anaconda3/lib/python3.9/site-packages (from python-dateutil>=2.8.1->pandas->datasets) (1.16.0)\n",
      "Installing collected packages: dill, xxhash, tokenizers, responses, pyarrow, multiprocess, huggingface-hub, transformers, datasets\n",
      "Successfully installed datasets-2.7.1 dill-0.3.6 huggingface-hub-0.11.0 multiprocess-0.70.14 pyarrow-10.0.1 responses-0.18.0 tokenizers-0.13.2 transformers-4.24.0 xxhash-3.1.0\n"
     ]
    }
   ],
   "source": [
    "#  !pip install transformers datasets"
   ]
  },
  {
   "cell_type": "code",
   "execution_count": 20,
   "metadata": {},
   "outputs": [
    {
     "name": "stderr",
     "output_type": "stream",
     "text": [
      "2022-11-26 14:21:30.153151: I tensorflow/core/platform/cpu_feature_guard.cc:193] This TensorFlow binary is optimized with oneAPI Deep Neural Network Library (oneDNN) to use the following CPU instructions in performance-critical operations:  AVX2 AVX512F AVX512_VNNI FMA\n",
      "To enable them in other operations, rebuild TensorFlow with the appropriate compiler flags.\n",
      "2022-11-26 14:21:30.299896: I tensorflow/core/util/util.cc:169] oneDNN custom operations are on. You may see slightly different numerical results due to floating-point round-off errors from different computation orders. To turn them off, set the environment variable `TF_ENABLE_ONEDNN_OPTS=0`.\n",
      "2022-11-26 14:21:30.329864: E tensorflow/stream_executor/cuda/cuda_blas.cc:2981] Unable to register cuBLAS factory: Attempting to register factory for plugin cuBLAS when one has already been registered\n",
      "2022-11-26 14:21:30.821302: W tensorflow/stream_executor/platform/default/dso_loader.cc:64] Could not load dynamic library 'libnvinfer.so.7'; dlerror: libnvinfer.so.7: cannot open shared object file: No such file or directory\n",
      "2022-11-26 14:21:30.821363: W tensorflow/stream_executor/platform/default/dso_loader.cc:64] Could not load dynamic library 'libnvinfer_plugin.so.7'; dlerror: libnvinfer_plugin.so.7: cannot open shared object file: No such file or directory\n",
      "2022-11-26 14:21:30.821369: W tensorflow/compiler/tf2tensorrt/utils/py_utils.cc:38] TF-TRT Warning: Cannot dlopen some TensorRT libraries. If you would like to use Nvidia GPU with TensorRT, please make sure the missing libraries mentioned above are installed properly.\n"
     ]
    }
   ],
   "source": [
    "import torch\n",
    "import transformers\n",
    "from torch import nn\n",
    "\n",
    "from transformers import logging\n",
    "logging.set_verbosity_error()\n",
    "logging.set_verbosity_warning()\n",
    "\n",
    "from torch.utils.data import DataLoader\n",
    "from transformers import TrainingArguments, Trainer\n",
    "from sklearn.model_selection import train_test_split \n",
    "from transformers import AutoConfig, AutoTokenizer, AutoModel\n",
    "from transformers import get_linear_schedule_with_warmup, AdamW\n",
    "# from transformers import AutoModelForMaskedLM, XLMRobertaForSequenceClassification\n",
    "\n",
    "from sklearn.metrics import f1_score"
   ]
  },
  {
   "cell_type": "markdown",
   "metadata": {},
   "source": [
    "References:    \n",
    "- https://github.com/elsheikh21/cross-natural-language-inference/blob/master/XNLI_XLMR.ipynb \n",
    "- https://huggingface.co/salesken/xlm-roberta-base-finetuned-mnli-cross-lingual-transfer\n",
    "- https://github.com/SumitM0432/XLM-RoBERTa-for-Textual-Entailment/tree/e551343fc7b2712744ad6b5ca51abbf824ef417c\n",
    "- https://github.com/PrayushiFaldu/COL772/blob/master/Assignment_3/2021CSY7548_A3_B_train.ipynb   "
   ]
  },
  {
   "cell_type": "code",
   "execution_count": 21,
   "metadata": {},
   "outputs": [],
   "source": [
    "# Hyperparameters ...\n",
    "\n",
    "# global meta\n",
    "MAX_LEN = 128\n",
    "BATCH_SIZE = 32\n",
    "NUM_EPOCHS = 10\n",
    "VAL_SIZE = 0.3 # => 30% validation data\n",
    "DROP_PROB = 0.1 # dropout probability; higher drop_prob => poor results\n",
    "LR = 5e-6 # higher learning rate => poor results\n",
    "EXT_VAL_DATA = True\n",
    "REMOVE_UNREALTED_LANGS = False\n",
    "ONLY_TRAIN_TARGETS_AND_ENG = False # Target langugages alongwith \"English\"\n",
    "ONLY_TRAIN_TARGETS = False \n",
    "\n",
    "MODEL_NAME = 'xlm-roberta-large' # 'xlm-roberta-base' 'xlm-roberta-large'\n",
    "\n",
    "TRANSLATE_INPUT_TRAIN = False \n",
    "TRANSLATE_INPUT_TEST = False\n",
    "\n",
    "DEVICE = 'cpu'\n",
    "if torch.cuda.is_available():\n",
    "    DEVICE = 'cuda'\n",
    "print(torch.cuda.current_device())\n",
    "RANDOM_SEED = 7\n",
    "\n",
    "# Language strings will be used at inference: \n",
    "## might not be used at all since XLM-R identifies languages on it's own w/o need of any language indicators\n",
    "LABEL2STR = {'ar': 'Arabic', 'bg': 'Bulgarian', 'de': 'German', 'el': 'Greek', 'en':'English', 'es': 'Spanish', \n",
    "             'fr': 'French', 'hi': 'Hindi', 'ru': 'Russian' ,'sw': 'Swahili', 'th': 'Thai', 'tr': 'Turkish', \n",
    "             'ur': 'Urdu', 'vi': 'Vietnamese', 'zh': 'Chinese'}\n",
    "STR2LABEL = {v:k for k, v in LABEL2STR.items()}\n",
    "\n",
    "label2idx = {'entailment':0, 'neutral':1, 'contradiction':2} \n",
    "idx2label = {v:k for k, v in label2idx.items()}\n",
    "NUM_CLASSES = 3\n",
    "\n",
    "xlmr_tokenizer = AutoTokenizer.from_pretrained(MODEL_NAME) \n",
    "# xlmr_tokenizer = AutoTokenizer.from_pretrained(MODEL_NAME, do_lower_case=True)\n",
    "xlmr_tokenizer.do_lower_case = False # setting explicitly because sometimes the above line doesn't work  "
   ]
  },
  {
   "cell_type": "markdown",
   "metadata": {},
   "source": [
    "**Data Preprocessing**"
   ]
  },
  {
   "cell_type": "code",
   "execution_count": null,
   "metadata": {},
   "outputs": [],
   "source": [
    "if REMOVE_UNREALTED_LANGS:\n",
    "    # Not taking two languages: \"Arabic\" and \"Urdu\" while training. \n",
    "    # The four target languages are written left-to-right while these two are written right-to-left\n",
    "    # Removing these languages helps in improving the accuracy over the target languages, \n",
    "    # probably bcz these languages are unrelated to the target languages to a large extent and therefore add noise while training \n",
    "    data = data[\n",
    "            (data['language']=='hi') | \n",
    "            (data['language']=='zh') | \n",
    "            (data['language']=='sw') | \n",
    "            (data['language']=='es') | \n",
    "            (data['language']=='bg') | \n",
    "            (data['language']=='de') | \n",
    "            (data['language']=='el') | \n",
    "            (data['language']=='en') | \n",
    "            (data['language']=='fr') | \n",
    "            (data['language']=='ru') | \n",
    "            (data['language']=='th') | \n",
    "            (data['language']=='tr') | \n",
    "            (data['language']=='vi') \n",
    "            ]\n",
    "\n",
    "if ONLY_TRAIN_TARGETS_AND_ENG:\n",
    "    data = data[\n",
    "            (data['language']=='en') | \n",
    "            (data['language']=='hi') | \n",
    "            (data['language']=='zh') | \n",
    "            (data['language']=='sw') | \n",
    "            (data['language']=='es') \n",
    "            ]\n",
    "\n",
    "if ONLY_TRAIN_TARGETS:\n",
    "    data = data[\n",
    "            (data['language']=='hi') | \n",
    "            (data['language']=='zh') | \n",
    "            (data['language']=='sw') | \n",
    "            (data['language']=='es') \n",
    "            ]"
   ]
  },
  {
   "cell_type": "code",
   "execution_count": 22,
   "metadata": {},
   "outputs": [],
   "source": [
    "# Utilities\n",
    "def translate_data(all_data):\n",
    "    pass\n",
    "\n",
    "def preprocess_data(all_data):\n",
    "    '''\n",
    "    # We don't need to translate any sample in all_data bcz all of the samples are from languages on which XLM-R is trained.\n",
    "    # Not required bcz languages can be fed into XLMR w/o translation\n",
    "    if TRANSLATE_INPUT_TRAIN:\n",
    "        # make use of all the input data by converting all the other languages to english\n",
    "        all_data = translate_data(all_data)\n",
    "    else:\n",
    "        # only train on 'English' data samples only\n",
    "        all_data = all_data[all_data['language']=='en']\n",
    "    '''\n",
    "    proposition = all_data[['premise', 'hypothesis']].values.tolist()\n",
    "    all_data['proposition'] = proposition\n",
    "    # print(all_data.shape)\n",
    "    all_data = all_data.dropna() # https://stackoverflow.com/questions/63517293/valueerror-textencodeinput-must-be-uniontextinputsequence-tupleinputsequence\n",
    "    # print(all_data.shape)\n",
    "    return all_data\n",
    "\n",
    "\n",
    "def split_data(all_data):\n",
    "    # for validation take only 30% of the target languages' {Hindi, Chinese, Swahili, Spanish} data\n",
    "    target_langs_data = all_data[(all_data['language']=='hi') | (all_data['language']=='zh') | (all_data['language']=='sw') | (all_data['language']=='es')]\n",
    "    target_train, X_test, y_target_train, y_test = train_test_split(\n",
    "                                                                    target_langs_data, \n",
    "                                                                    target_langs_data.gold_label,\n",
    "                                                                    test_size=VAL_SIZE,\n",
    "                                                                    random_state=RANDOM_SEED,\n",
    "                                                                    stratify=target_langs_data.gold_label.map(label2idx).values\n",
    "                                                                    )\n",
    "    other_langs_data = all_data[~((all_data['language']=='hi') | (all_data['language']=='zh') | (all_data['language']=='sw') | (all_data['language']=='es'))]\n",
    "\n",
    "    dfs = [other_langs_data, target_train]\n",
    "    X_train = pd.concat(dfs)\n",
    "    y_train = X_train['gold_label']\n",
    "    return X_train, X_test, y_train, y_test\n",
    "    \n",
    "\n",
    "def _split_data(all_data):\n",
    "    # for validation take only 30% of the target languages' {Hindi, Chinese, Swahili, Spanish} data\n",
    "    X_train, X_test, y_train, y_test = train_test_split(\n",
    "                                                        # all_data['proposition'],\n",
    "                                                        all_data,\n",
    "                                                        all_data.gold_label, \n",
    "                                                        # all_data.gold_label.map(label2idx).values,\n",
    "                                                        test_size=VAL_SIZE, \n",
    "                                                        random_state=RANDOM_SEED, \n",
    "                                                        stratify=all_data.gold_label.map(label2idx).values\n",
    "                                                        )\n",
    "    return X_train, X_test, y_train, y_test\n",
    "\n",
    "\n",
    "\n",
    "def encode_data(X, y, tokenizer):\n",
    "    '''\n",
    "    X : Propositions\n",
    "    y : labels <=> X_['gold_label'] if all_data instead of all_data['proposition'] in split_data\n",
    "    \n",
    "    text=premise, text_pair=hypothesis, ... makes more sense than text=proposition\n",
    "    bcz in the former case, the segment tokens for text and text_pair are different\n",
    "    '''\n",
    "    encoded_data = []\n",
    "    for _premise, _hypothesis, _label in tqdm(zip(X['premise'], X['hypothesis'], X['gold_label']), total=X.shape[0]):\n",
    "        encoded_dict = tokenizer(\n",
    "                                 text=_premise,\n",
    "                                 text_pair=_hypothesis, \n",
    "                                 # target=?, # what is its use?\n",
    "                                 add_special_tokens=True,\n",
    "                                 return_token_type_ids=True, # token_type_ids like [CLS],[SEP],etc.\n",
    "                                 return_attention_mask=True,\n",
    "                                 max_length=MAX_LEN,\n",
    "                                 padding='max_length',\n",
    "                                 truncation=True,\n",
    "                                 return_tensors='pt' #'pt'=>torch.Tensor object\n",
    "                                )\n",
    "        encoded_data.append({\n",
    "                             # 'premise': _premise, '_hypothesis': _hypothesis,\n",
    "                             'tokenized_text': torch.squeeze(encoded_dict[\"input_ids\"]), # <=> # 'tokenized_text': encoded_dict[\"input_ids\"].flatten(),\n",
    "                             'attention_mask': torch.squeeze(encoded_dict[\"attention_mask\"]), \n",
    "                             'token_types': torch.squeeze(encoded_dict[\"token_type_ids\"]),\n",
    "                             'outputs': torch.LongTensor([label2idx.get(_label)]) # casting to LongTensor is important (for the loss_fn later on; either cast here itself or in the training loop) \n",
    "                            })\n",
    "    '''\n",
    "    for _proposition, _label in tqdm(zip(X, y), total=X.shape[0]):\n",
    "        encoded_dict = tokenizer(\n",
    "                                    text=proposition,\n",
    "                                    add_special_tokens=True,\n",
    "                                    return_token_type_ids=True, # token_type_ids like [CLS],[SEP],etc.\n",
    "                                    padding = 'max_length',\n",
    "                                    truncation=True,\n",
    "                                    max_length=MAX_LEN,\n",
    "                                    return_tensors='pt' #'pt'=>torch.Tensor object\n",
    "                                )\n",
    "        encoded_data.append({\n",
    "                             'propositions': prop, \n",
    "                             'tokenized_text': torch.squeeze(encoded_dict[\"input_ids\"]), # <=> # 'tokenized_text': encoded_dict[\"input_ids\"].flatten(),\n",
    "                             'attention_mask': torch.squeeze(encoded_dict[\"attention_mask\"]), \n",
    "                             'token_types': torch.squeeze(encoded_dict[\"token_type_ids\"]),\n",
    "                             'outputs': torch.LongTensor([label2idx.get(_label)])\n",
    "                            })\n",
    "    '''\n",
    "    return encoded_data\n",
    "\n",
    "\n",
    "def create_dataloader(encoded_data):\n",
    "    return DataLoader(encoded_data, batch_size=BATCH_SIZE)\n"
   ]
  },
  {
   "cell_type": "markdown",
   "metadata": {},
   "source": [
    "Attention masks are boolean arrays which tell which token should be attended to, and which should not.\n",
    "The attention mask is a binary tensor indicating the position of the padded indices so that the model does not attend to them."
   ]
  },
  {
   "cell_type": "markdown",
   "metadata": {},
   "source": [
    "**Training**\n",
    "---"
   ]
  },
  {
   "cell_type": "markdown",
   "metadata": {},
   "source": [
    "This is a Translate-train-all setting where the data of all the languages (which have been achieved via translation) is also used on top of the source language (usually English) for training.  "
   ]
  },
  {
   "cell_type": "code",
   "execution_count": 23,
   "metadata": {
    "scrolled": false
   },
   "outputs": [
    {
     "name": "stderr",
     "output_type": "stream",
     "text": [
      "100%|█████████████████████████████████| 112993/112993 [00:35<00:00, 3177.69it/s]\n",
      "100%|█████████████████████████████████████| 9960/9960 [00:03<00:00, 2789.45it/s]\n"
     ]
    }
   ],
   "source": [
    "# PREPROCESS the original data, SPLIT into train and val data, ENCODE train data, get the DATALOADER \n",
    "processed_data = preprocess_data(data)\n",
    "# if not taking external data for validation \n",
    "if not EXT_VAL_DATA:\n",
    "    X_train, X_val, y_train, y_val = split_data(processed_data) \n",
    "\n",
    "# if using external data for validation:\n",
    "if EXT_VAL_DATA:\n",
    "    X_train, y_train = train_data.applymap(str), train_data['gold_label']\n",
    "    X_val, y_val = val_data.applymap(str), val_data['gold_label']\n",
    "\n",
    "# X_train, X_val, y_train, y_val = X_train[:BATCH_SIZE], X_val[:BATCH_SIZE], y_train[:BATCH_SIZE], y_val[:BATCH_SIZE] \n",
    "# X_train, X_val, y_train, y_val = X_train[:100*BATCH_SIZE], X_val[:100*BATCH_SIZE], y_train[:100*BATCH_SIZE], y_val[:100*BATCH_SIZE] \n",
    "\n",
    "train_input = encode_data(X_train, y_train, xlmr_tokenizer)\n",
    "val_input = encode_data(X_val, y_val, xlmr_tokenizer)\n",
    "NUM_TRAIN_SAMPLES = len(train_input)\n",
    "NUM_VAL_SAMPLES = len(val_input)\n",
    "\n",
    "train_dataloader = create_dataloader(train_input)\n",
    "val_dataloader = create_dataloader(val_input)\n",
    "NUM_TRAIN_BATCHES = len(train_dataloader)\n",
    "NUM_VAL_BATCHES = len(val_dataloader)"
   ]
  },
  {
   "cell_type": "code",
   "execution_count": 25,
   "metadata": {},
   "outputs": [
    {
     "data": {
      "text/plain": [
       "\"\\n# How to choose the MAX_LEN hyperparameter:\\n# choose a multiple of 2 close to the max length of the input:\\ndef get_max_len(dataset):\\n    max_len = 0\\n    for sample in dataset:\\n        curr_len = sample['tokenized_text'].shape[1]\\n        if curr_len > max_len:\\n            max_len = curr_len \\n    return max_len \\n\\nmax_len_train = get_max_len(train_input) \\nmax_len_val = get_max_len(val_input)\\n\\nprint(max_len_train, max_len_val)\\n\""
      ]
     },
     "execution_count": 25,
     "metadata": {},
     "output_type": "execute_result"
    }
   ],
   "source": [
    "# Ignore\n",
    "'''\n",
    "# How to choose the MAX_LEN hyperparameter:\n",
    "# choose a multiple of 2 close to the max length of the input:\n",
    "def get_max_len(dataset):\n",
    "    max_len = 0\n",
    "    for sample in dataset:\n",
    "        curr_len = sample['tokenized_text'].shape[1]\n",
    "        if curr_len > max_len:\n",
    "            max_len = curr_len \n",
    "    return max_len \n",
    "\n",
    "max_len_train = get_max_len(train_input) \n",
    "max_len_val = get_max_len(val_input)\n",
    "\n",
    "print(max_len_train, max_len_val)\n",
    "'''"
   ]
  },
  {
   "cell_type": "code",
   "execution_count": 26,
   "metadata": {},
   "outputs": [],
   "source": [
    "# Model class:\n",
    "class xlmr_model(nn.Module):\n",
    "    def __init__(self, n_classes):\n",
    "        super(xlmr_model, self).__init__() \n",
    "        self.config = AutoConfig.from_pretrained(MODEL_NAME)\n",
    "        self.model = AutoModel.from_pretrained(MODEL_NAME, num_labels=n_classes).to(DEVICE)\n",
    "        self.drop = nn.Dropout(p=DROP_PROB) \n",
    "        classifier_input_dim = self.model.config.hidden_size\n",
    "        self.classifier = nn.Linear(classifier_input_dim, n_classes) \n",
    "    \n",
    "    def forward(self, input_ids, attention_mask, token_type_ids):\n",
    "        outputs = self.model(\n",
    "                             input_ids = input_ids, \n",
    "                             attention_mask = attention_mask,\n",
    "                             token_type_ids = token_type_ids\n",
    "                             # labels = labels # deprecated\n",
    "                             )\n",
    "        last_hidden_state = outputs[0]  # outputs.last_hidden_state\n",
    "        sentence_embeddings = torch.mean(last_hidden_state, dim=1) \n",
    "        \n",
    "        pooler_output = outputs[1] # outputs.pooler_output\n",
    "        \n",
    "        # output = self.drop(pooler_output) \n",
    "        # pooler output gives processed cls tokens, it might not be the suitable option for nli; will see later\n",
    "        output = self.drop(sentence_embeddings)\n",
    "        # output = sentence_embeddings # when removing dropout, uncomment this line\n",
    "        logits = self.classifier(output)\n",
    "        return logits"
   ]
  },
  {
   "cell_type": "code",
   "execution_count": 27,
   "metadata": {
    "scrolled": true
   },
   "outputs": [
    {
     "name": "stderr",
     "output_type": "stream",
     "text": [
      "Some weights of the model checkpoint at xlm-roberta-large were not used when initializing XLMRobertaModel: ['lm_head.dense.weight', 'lm_head.bias', 'lm_head.layer_norm.bias', 'lm_head.decoder.weight', 'lm_head.dense.bias', 'lm_head.layer_norm.weight']\n",
      "- This IS expected if you are initializing XLMRobertaModel from the checkpoint of a model trained on another task or with another architecture (e.g. initializing a BertForSequenceClassification model from a BertForPreTraining model).\n",
      "- This IS NOT expected if you are initializing XLMRobertaModel from the checkpoint of a model that you expect to be exactly identical (initializing a BertForSequenceClassification model from a BertForSequenceClassification model).\n"
     ]
    }
   ],
   "source": [
    "model = xlmr_model(NUM_CLASSES).to(DEVICE) # the.to(DEVICE) used here might be redundant\n",
    "\n",
    "optimizer = AdamW(model.parameters(), lr=LR, correct_bias=False)\n",
    "\n",
    "total_steps = len(train_dataloader) * NUM_EPOCHS\n",
    "scheduler = get_linear_schedule_with_warmup(\n",
    "                                            optimizer,\n",
    "                                            num_warmup_steps=0,\n",
    "                                            num_training_steps=total_steps\n",
    "                                            )\n",
    "\n",
    "loss_fn = nn.CrossEntropyLoss().to(DEVICE) \n",
    "torch.cuda.empty_cache()"
   ]
  },
  {
   "cell_type": "markdown",
   "metadata": {},
   "source": [
    "TensorBoard (with PyTorch) tutorials:\n",
    "- https://pytorch.org/tutorials/intermediate/tensorboard_tutorial.html   \n",
    "- https://pytorch.org/tutorials/recipes/recipes/tensorboard_with_pytorch.html"
   ]
  },
  {
   "cell_type": "code",
   "execution_count": 28,
   "metadata": {},
   "outputs": [],
   "source": [
    "# import tensorflow as tf\n",
    "# from torch.utils.tensorboard import SummaryWriter\n",
    "# writer = SummaryWriter(\n",
    "#                        \"runs/XLM-R for multilingual NLI\", \n",
    "#                        comment=f\"Learning Rate: {LR} with linear scheduler, Dropout Probability: {DROP_PROB}\"\n",
    "#                        ) "
   ]
  },
  {
   "cell_type": "code",
   "execution_count": 29,
   "metadata": {},
   "outputs": [],
   "source": [
    "# # Tensorboard stuff:\n",
    "# %load_ext tensorboard # Load the TensorBoard notebook extension \n",
    "# !rm -rf ./logs/  # Clear any logs from previous runs\n",
    "\n",
    "# log_dir = \"logs/fit/\" + datetime.datetime.now().strftime(\"%Y%m%d-%H%M%S\") \n",
    "# tensorboard_callack = tf.keras.callbacks.TesnorBoard(log_dir=log_dir, histogram_freq=1)"
   ]
  },
  {
   "cell_type": "code",
   "execution_count": 30,
   "metadata": {},
   "outputs": [],
   "source": [
    "# for a single epoch:\n",
    "def train_epoch(model, dataloader):\n",
    "    model.train()\n",
    "    \n",
    "    train_loss = 0.0 \n",
    "    correct_preds = 0 \n",
    "    num_samples = 0 \n",
    "    num_batches = len(dataloader)\n",
    "    \n",
    "    all_targets = []\n",
    "    all_preds = []\n",
    "    for batch_idx, batch in tqdm(enumerate(dataloader), total=len(dataloader)):\n",
    "    # for batch_idx, batch in enumerate(dataloader):\n",
    "        ip_ids = batch['tokenized_text'].to(DEVICE)\n",
    "        attn_mask = batch['attention_mask'].to(DEVICE)\n",
    "        token_types = batch['token_types'].to(DEVICE)\n",
    "        targets = batch['outputs'].to(DEVICE).view(-1)\n",
    "        \n",
    "        optimizer.zero_grad()\n",
    "        \n",
    "        preds = model(input_ids=ip_ids, attention_mask=attn_mask, token_type_ids=token_types)\n",
    "        _, pred_labels = torch.max(preds, dim=1)\n",
    "        correct_preds += torch.sum(pred_labels==targets)\n",
    "        \n",
    "        # The RHS gives #correct predictions for the 'b-th' batch after training on the previous (b-1) batches \n",
    "        # this value should improve as the model sees more batches\n",
    "        # this 'correct' can differ from the 'correct' in case of 'accuracy(model, dataloader)' \n",
    "        # print(preds)\n",
    "        # print()\n",
    "        # print(targets)\n",
    "        loss = loss_fn(preds, targets)\n",
    "        train_loss += loss.item() \n",
    "        # first we evaluate then backpropagate\n",
    "        loss.backward() \n",
    "        \n",
    "        nn.utils.clip_grad_norm_(model.parameters(), max_norm=1.0)\n",
    "        optimizer.step() \n",
    "        scheduler.step() \n",
    "        \n",
    "        # num_samples += len(batch) # WRONG! # len(batch) will give the length of the batch dictionary which is 4\n",
    "        num_samples += len(batch['outputs'])\n",
    "\n",
    "        pred_batch, gold_batch = list(pred_labels.cpu().numpy()), list(targets.cpu().numpy()) \n",
    "        all_preds += pred_batch\n",
    "        all_targets += gold_batch\n",
    "    \n",
    "    acc_this_epoch = correct_preds/num_samples\n",
    "    # acc_this_epoch_ = eval_model(model, dataloader) # this can be different from acc_this_epoch\n",
    "    loss_this_epoch = train_loss/num_batches\n",
    "    \n",
    "    micro_f1 = f1_score(all_targets, all_preds, average='micro')\n",
    "    macro_f1 = f1_score(all_targets, all_preds, average='macro')\n",
    "\n",
    "    return acc_this_epoch, train_loss, micro_f1, macro_f1\n",
    "\n",
    "\n",
    "def eval_epoch(model, dataloader):\n",
    "    model.eval() \n",
    "    \n",
    "    val_loss = 0.0 \n",
    "    correct_preds = 0 \n",
    "    num_samples = 0 \n",
    "    num_batches = len(dataloader)\n",
    "    \n",
    "    all_targets = []\n",
    "    all_preds = []\n",
    "    with torch.no_grad():\n",
    "        for batch_idx, batch in tqdm(enumerate(dataloader), total=len(dataloader)):\n",
    "        # for batch_idx, batch in enumerate(dataloader):\n",
    "            ip_ids = batch['tokenized_text'].to(DEVICE)\n",
    "            attn_mask = batch['attention_mask'].to(DEVICE)\n",
    "            token_types = batch['token_types'].to(DEVICE)\n",
    "            targets = batch['outputs'].to(DEVICE).view(-1)\n",
    "            \n",
    "            preds = model(input_ids=ip_ids, attention_mask=attn_mask, token_type_ids=token_types) \n",
    "            _, pred_labels = torch.max(preds, dim=1)\n",
    "            correct_preds += torch.sum(pred_labels==targets)\n",
    "\n",
    "            loss = loss_fn(preds, targets) \n",
    "            val_loss += loss.item()\n",
    "            \n",
    "            num_samples += len(batch['outputs'])\n",
    "\n",
    "            pred_batch, gold_batch = list(pred_labels.cpu().numpy()), list(targets.cpu().numpy()) \n",
    "            all_preds += pred_batch\n",
    "            all_targets += gold_batch\n",
    "                \n",
    "    acc_this_epoch = correct_preds/num_samples \n",
    "    loss_this_epoch = val_loss/num_batches \n",
    "    \n",
    "    micro_f1 = f1_score(all_targets, all_preds, average='micro')\n",
    "    macro_f1 = f1_score(all_targets, all_preds, average='macro')\n",
    "\n",
    "    return acc_this_epoch, loss_this_epoch, micro_f1, macro_f1\n",
    "\n",
    "\n",
    "def save_model(model, idx):\n",
    "    torch.save(model.state_dict(), f'model_{idx}.pth')\n",
    "    return\n",
    "\n",
    "def load_model(model_path):\n",
    "    state_dict = torch.load(model_path)\n",
    "    model = xlmr_model(NUM_CLASSES)\n",
    "    model.load_state_dict(state_dict)\n",
    "    return model\n",
    "\n",
    "def save_history(history_dict):\n",
    "    pickle_on = open('history_dict.pkl', 'wb')\n",
    "    pickle.dump(history_dict, pickle_on)\n",
    "    pickle_on.close()\n",
    "    return\n",
    "\n",
    "def load_history(history_dict_path):\n",
    "    pickle_off = open(history_dict_path, 'rb')\n",
    "    history = pickle.load(pickle_off)\n",
    "    return history\n",
    "\n",
    "\n",
    "def train(model, train_loader, val_loader, num_epochs):\n",
    "    history = defaultdict(list)\n",
    "    best_acc = 0\n",
    "\n",
    "    start_time = time.time()\n",
    "    print(f\"Program execution start : {datetime.datetime.now()}\")\n",
    "    for epoch_idx in range(num_epochs):\n",
    "        print(\"-\"*100)\n",
    "        print(f\"Epoch {int(epoch_idx)}\")\n",
    "        \n",
    "        train_acc, train_loss, train_micro_f1, train_macro_f1 = train_epoch(model, train_loader)\n",
    "        # writer.add_scalar(\"Loss/train\", train_loss, epoch_idx+1)\n",
    "        # writer.add_scalar(\"Accuracy/train\", train_acc, epoch_idx+1)\n",
    "        print(\"Train Acc: {:6.3f} | Micro-F1: {:6.3f} | Macro-F1: {:6.3f} | Train Loss: {:6.3f}\".format(train_acc, train_micro_f1, train_macro_f1, train_loss))\n",
    "        \n",
    "        val_acc, val_loss, val_micro_f1, val_macro_f1 = eval_epoch(model, val_loader)\n",
    "        # writer.add_scalar(\"Loss/test\", val_loss, epoch_idx+1)\n",
    "        # writer.add_scalar(\"Accuracy/test\", val_acc, epoch_idx+1)\n",
    "        print(\"Val Acc: {:6.3f} | Micro-F1: {:6.3f} | Macro-F1: {:6.3f} | Val Loss: {:6.3f}\".format(val_acc, val_micro_f1, val_macro_f1, val_loss))\n",
    "        \n",
    "        print(\"-\"*100)\n",
    "\n",
    "        history['train_accs'].append(train_acc.cpu().item()) # micro-F1\n",
    "        history['train_losses'].append(train_loss)\n",
    "        history['val_accs'].append(val_acc.cpu().item())\n",
    "        history['val_losses'].append(val_loss)\n",
    "        \n",
    "        history['train_micro-f1'].append(train_micro_f1)\n",
    "        history['train_macro-f1'].append(train_macro_f1)\n",
    "        history['val_macro-f1'].append(val_micro_f1)\n",
    "        history['val_macro-f1'].append(val_macro_f1)\n",
    "        # saving the model at every checkpoint might take too much space but we don't care xD\n",
    "        # we save the model at every epoch (each checkpoint's size is around 1.1 GB)\n",
    "        # we also save the entire 'history' \n",
    "        # we'll select the one of the model checkpoints later based on the history \n",
    "        save_model(model, epoch_idx)\n",
    "    \n",
    "    save_history(history) \n",
    "    print(f\"Program execution end : {datetime.datetime.now()}\")\n",
    "    print()\n",
    "    end_time = time.time() \n",
    "    print(f\"Total execution time: {(end_time-start_time)/3600} hrs\")\n",
    "    return"
   ]
  },
  {
   "cell_type": "markdown",
   "metadata": {},
   "source": [
    "Q. What should be the MAX_LEN?    \n",
    "Q. Give the concatenated {premise, hypothesis} as single input or consider separate inputs premise and hypothesis (in the latter case there will be separate segment embeddings for the two inputs which will necessiate the use of token_type_ids input for the model) i.e., \n",
    "- use Tokenizer(text=proposition, ...)\n",
    "- use Tokenizer(text=premise, text_pair=hypothesis, ...)"
   ]
  },
  {
   "cell_type": "code",
   "execution_count": 31,
   "metadata": {},
   "outputs": [
    {
     "name": "stdout",
     "output_type": "stream",
     "text": [
      "Program execution start : 2022-11-26 14:22:26.224259\n",
      "----------------------------------------------------------------------------------------------------\n",
      "Epoch 0\n"
     ]
    },
    {
     "name": "stderr",
     "output_type": "stream",
     "text": [
      "100%|███████████████████████████████████████| 3532/3532 [43:11<00:00,  1.36it/s]\n"
     ]
    },
    {
     "name": "stdout",
     "output_type": "stream",
     "text": [
      "Train Acc:  0.815 | Train Loss: 1658.942\n"
     ]
    },
    {
     "name": "stderr",
     "output_type": "stream",
     "text": [
      "100%|█████████████████████████████████████████| 312/312 [01:08<00:00,  4.58it/s]\n"
     ]
    },
    {
     "name": "stdout",
     "output_type": "stream",
     "text": [
      "Val Acc:  0.849 | Val Loss:  0.464\n",
      "----------------------------------------------------------------------------------------------------\n",
      "----------------------------------------------------------------------------------------------------\n",
      "Epoch 1\n"
     ]
    },
    {
     "name": "stderr",
     "output_type": "stream",
     "text": [
      "100%|███████████████████████████████████████| 3532/3532 [43:08<00:00,  1.36it/s]\n"
     ]
    },
    {
     "name": "stdout",
     "output_type": "stream",
     "text": [
      "Train Acc:  0.886 | Train Loss: 1107.209\n"
     ]
    },
    {
     "name": "stderr",
     "output_type": "stream",
     "text": [
      "100%|█████████████████████████████████████████| 312/312 [01:08<00:00,  4.57it/s]\n"
     ]
    },
    {
     "name": "stdout",
     "output_type": "stream",
     "text": [
      "Val Acc:  0.865 | Val Loss:  0.562\n",
      "----------------------------------------------------------------------------------------------------\n",
      "----------------------------------------------------------------------------------------------------\n",
      "Epoch 2\n"
     ]
    },
    {
     "name": "stderr",
     "output_type": "stream",
     "text": [
      "100%|███████████████████████████████████████| 3532/3532 [43:07<00:00,  1.37it/s]\n"
     ]
    },
    {
     "name": "stdout",
     "output_type": "stream",
     "text": [
      "Train Acc:  0.914 | Train Loss: 870.121\n"
     ]
    },
    {
     "name": "stderr",
     "output_type": "stream",
     "text": [
      "100%|█████████████████████████████████████████| 312/312 [01:08<00:00,  4.56it/s]\n"
     ]
    },
    {
     "name": "stdout",
     "output_type": "stream",
     "text": [
      "Val Acc:  0.876 | Val Loss:  0.655\n",
      "----------------------------------------------------------------------------------------------------\n",
      "----------------------------------------------------------------------------------------------------\n",
      "Epoch 3\n"
     ]
    },
    {
     "name": "stderr",
     "output_type": "stream",
     "text": [
      "100%|███████████████████████████████████████| 3532/3532 [43:08<00:00,  1.36it/s]\n"
     ]
    },
    {
     "name": "stdout",
     "output_type": "stream",
     "text": [
      "Train Acc:  0.934 | Train Loss: 702.754\n"
     ]
    },
    {
     "name": "stderr",
     "output_type": "stream",
     "text": [
      "100%|█████████████████████████████████████████| 312/312 [01:08<00:00,  4.57it/s]\n"
     ]
    },
    {
     "name": "stdout",
     "output_type": "stream",
     "text": [
      "Val Acc:  0.873 | Val Loss:  0.721\n",
      "----------------------------------------------------------------------------------------------------\n",
      "----------------------------------------------------------------------------------------------------\n",
      "Epoch 4\n"
     ]
    },
    {
     "name": "stderr",
     "output_type": "stream",
     "text": [
      "100%|███████████████████████████████████████| 3532/3532 [43:08<00:00,  1.36it/s]\n"
     ]
    },
    {
     "name": "stdout",
     "output_type": "stream",
     "text": [
      "Train Acc:  0.949 | Train Loss: 568.411\n"
     ]
    },
    {
     "name": "stderr",
     "output_type": "stream",
     "text": [
      "100%|█████████████████████████████████████████| 312/312 [01:08<00:00,  4.56it/s]\n"
     ]
    },
    {
     "name": "stdout",
     "output_type": "stream",
     "text": [
      "Val Acc:  0.876 | Val Loss:  0.797\n",
      "----------------------------------------------------------------------------------------------------\n",
      "----------------------------------------------------------------------------------------------------\n",
      "Epoch 5\n"
     ]
    },
    {
     "name": "stderr",
     "output_type": "stream",
     "text": [
      "100%|███████████████████████████████████████| 3532/3532 [43:08<00:00,  1.36it/s]\n"
     ]
    },
    {
     "name": "stdout",
     "output_type": "stream",
     "text": [
      "Train Acc:  0.960 | Train Loss: 491.969\n"
     ]
    },
    {
     "name": "stderr",
     "output_type": "stream",
     "text": [
      "100%|█████████████████████████████████████████| 312/312 [01:08<00:00,  4.57it/s]\n"
     ]
    },
    {
     "name": "stdout",
     "output_type": "stream",
     "text": [
      "Val Acc:  0.878 | Val Loss:  0.835\n",
      "----------------------------------------------------------------------------------------------------\n",
      "----------------------------------------------------------------------------------------------------\n",
      "Epoch 6\n"
     ]
    },
    {
     "name": "stderr",
     "output_type": "stream",
     "text": [
      "100%|███████████████████████████████████████| 3532/3532 [43:09<00:00,  1.36it/s]\n"
     ]
    },
    {
     "name": "stdout",
     "output_type": "stream",
     "text": [
      "Train Acc:  0.967 | Train Loss: 427.765\n"
     ]
    },
    {
     "name": "stderr",
     "output_type": "stream",
     "text": [
      "100%|█████████████████████████████████████████| 312/312 [01:08<00:00,  4.57it/s]\n"
     ]
    },
    {
     "name": "stdout",
     "output_type": "stream",
     "text": [
      "Val Acc:  0.880 | Val Loss:  0.820\n",
      "----------------------------------------------------------------------------------------------------\n",
      "----------------------------------------------------------------------------------------------------\n",
      "Epoch 7\n"
     ]
    },
    {
     "name": "stderr",
     "output_type": "stream",
     "text": [
      "100%|███████████████████████████████████████| 3532/3532 [43:09<00:00,  1.36it/s]\n"
     ]
    },
    {
     "name": "stdout",
     "output_type": "stream",
     "text": [
      "Train Acc:  0.973 | Train Loss: 366.942\n"
     ]
    },
    {
     "name": "stderr",
     "output_type": "stream",
     "text": [
      "100%|█████████████████████████████████████████| 312/312 [01:08<00:00,  4.56it/s]\n"
     ]
    },
    {
     "name": "stdout",
     "output_type": "stream",
     "text": [
      "Val Acc:  0.878 | Val Loss:  0.888\n",
      "----------------------------------------------------------------------------------------------------\n",
      "----------------------------------------------------------------------------------------------------\n",
      "Epoch 8\n"
     ]
    },
    {
     "name": "stderr",
     "output_type": "stream",
     "text": [
      "100%|███████████████████████████████████████| 3532/3532 [43:08<00:00,  1.36it/s]\n"
     ]
    },
    {
     "name": "stdout",
     "output_type": "stream",
     "text": [
      "Train Acc:  0.977 | Train Loss: 331.473\n"
     ]
    },
    {
     "name": "stderr",
     "output_type": "stream",
     "text": [
      "100%|█████████████████████████████████████████| 312/312 [01:08<00:00,  4.56it/s]\n"
     ]
    },
    {
     "name": "stdout",
     "output_type": "stream",
     "text": [
      "Val Acc:  0.876 | Val Loss:  0.891\n",
      "----------------------------------------------------------------------------------------------------\n",
      "----------------------------------------------------------------------------------------------------\n",
      "Epoch 9\n"
     ]
    },
    {
     "name": "stderr",
     "output_type": "stream",
     "text": [
      "100%|███████████████████████████████████████| 3532/3532 [43:11<00:00,  1.36it/s]\n"
     ]
    },
    {
     "name": "stdout",
     "output_type": "stream",
     "text": [
      "Train Acc:  0.979 | Train Loss: 310.466\n"
     ]
    },
    {
     "name": "stderr",
     "output_type": "stream",
     "text": [
      "100%|█████████████████████████████████████████| 312/312 [01:08<00:00,  4.56it/s]\n"
     ]
    },
    {
     "name": "stdout",
     "output_type": "stream",
     "text": [
      "Val Acc:  0.874 | Val Loss:  0.855\n",
      "----------------------------------------------------------------------------------------------------\n",
      "Program execution end : 2022-11-26 21:45:56.576751\n",
      "\n",
      "Total execution time: 7.391764610542191 hrs\n"
     ]
    }
   ],
   "source": [
    "train(model, train_dataloader, val_dataloader, NUM_EPOCHS)"
   ]
  },
  {
   "cell_type": "code",
   "execution_count": 32,
   "metadata": {},
   "outputs": [],
   "source": [
    "# !tensorboard --logdir=runs\n",
    "\n",
    "# writer.flush() \n",
    "# writer.close()"
   ]
  },
  {
   "cell_type": "code",
   "execution_count": 33,
   "metadata": {},
   "outputs": [
    {
     "name": "stdout",
     "output_type": "stream",
     "text": [
      "defaultdict(<class 'list'>, {'train_accs': [0.8148115277290344, 0.8857274055480957, 0.9137203097343445, 0.9335445165634155, 0.9488729238510132, 0.9597674012184143, 0.9667412638664246, 0.973024845123291, 0.976892352104187, 0.9790252447128296], 'train_losses': [1658.941638402408, 1107.2093811953964, 870.1207627179974, 702.7540937981685, 568.4107035556808, 491.96895518913334, 427.7654407773771, 366.94175416487815, 331.4733188902792, 310.466303849229], 'val_accs': [0.8485943675041199, 0.8653614521026611, 0.8758032321929932, 0.8734939694404602, 0.8761044144630432, 0.8779116868972778, 0.8803213238716125, 0.8784136772155762, 0.8756024241447449, 0.873795211315155], 'val_losses': [0.4644244694455455, 0.5619034880353586, 0.6551157749402662, 0.7212011052497473, 0.7967371219077648, 0.8349079333425391, 0.8204258104133376, 0.8876115394754939, 0.890777366499081, 0.8545642026486185]})\n"
     ]
    }
   ],
   "source": [
    "hist = load_history('history_dict.pkl')\n",
    "print(hist)"
   ]
  },
  {
   "cell_type": "code",
   "execution_count": null,
   "metadata": {},
   "outputs": [],
   "source": []
  },
  {
   "cell_type": "code",
   "execution_count": null,
   "metadata": {},
   "outputs": [],
   "source": []
  }
 ],
 "metadata": {
  "kernelspec": {
   "display_name": "env1",
   "language": "python",
   "name": "env1"
  },
  "language_info": {
   "codemirror_mode": {
    "name": "ipython",
    "version": 3
   },
   "file_extension": ".py",
   "mimetype": "text/x-python",
   "name": "python",
   "nbconvert_exporter": "python",
   "pygments_lexer": "ipython3",
   "version": "3.9.12"
  },
  "vscode": {
   "interpreter": {
    "hash": "916dbcbb3f70747c44a77c7bcd40155683ae19c65e1c03b4aa3499c5328201f1"
   }
  }
 },
 "nbformat": 4,
 "nbformat_minor": 4
}
